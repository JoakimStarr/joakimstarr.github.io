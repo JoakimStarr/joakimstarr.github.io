{
 "cells": [
  {
   "cell_type": "code",
   "execution_count": 2,
   "id": "51d04e71",
   "metadata": {},
   "outputs": [],
   "source": [
    "import os\n",
    "\n",
    "# 指定目录路径\n",
    "dir_path = \"../../_posts\"  # 可以是相对路径或绝对路径\n",
    "\n",
    "# 获取目录下所有文件和子目录名\n",
    "file_names = os.listdir(dir_path)\n",
    "\n",
    "# # 打印所有文件名\n",
    "for name in file_names:\n",
    "#   文件重命名\n",
    "    # os.system(f'sed -i \"1s/^ //\" \"{dir_path+\"/\"+name}\"')\n",
    "\n",
    "    # name = name.replace(\"诗歌 | 诗歌 \", \"诗歌 | \")\n",
    "    # new_name = \"诗歌 | \" + name\n",
    "    with open(os.path.join(dir_path, name), 'r', encoding='utf-8') as f:\n",
    "        content = f.read()\n",
    "        content = content.replace(\"  title\", \"title\")\n",
    "        content = content.replace(\"  date\", \"date\")\n",
    "        content = content.replace(\"  tags\", \"tags\")\n",
    "        content = content.replace(\"  categories\", \"categories\")\n",
    "        content = content.replace(\"  ---\", \"---\")\n",
    "    with open(os.path.join(dir_path, name), 'w', encoding='utf-8') as f:\n",
    "        f.write(content)\n",
    "#         orign_text = \"\"\"\n",
    "#   ---\n",
    "#   title: 不再期待\n",
    "#   date: 2022-11-04 08:06\n",
    "#   tags:  \n",
    "#   categories: 诗歌\n",
    "#   ---\n",
    "# \"\"\"\n",
    "#         replace_text = \"\"\"\n",
    "# ---\n",
    "# title: 不再期待\n",
    "# date: 2022-11-04 08:06\n",
    "# tags: \n",
    "#     - 诗歌\n",
    "#     - 现代诗\n",
    "# categories: 诗歌\n",
    "# ---\n",
    "# \"\"\"\n",
    "#         content = content.replace(orign_text, replace_text)\n",
    "#         orign_text = \"\"\"\n",
    "# 文人病\n",
    "# 浅浅言语，感谢聆听……\n",
    "# 62篇原创内容\n",
    "# 公众号\n",
    "# \"\"\"     \n",
    "#         content = content.replace(orign_text, \"\")\n",
    "#         # with open(f'../../_posts/{name}.md', 'w', encoding='utf-8') as f:\n",
    "#         f.write(content)\n",
    "    "
   ]
  },
  {
   "cell_type": "code",
   "execution_count": null,
   "id": "50ba5849",
   "metadata": {},
   "outputs": [],
   "source": []
  }
 ],
 "metadata": {
  "kernelspec": {
   "display_name": "base",
   "language": "python",
   "name": "python3"
  },
  "language_info": {
   "codemirror_mode": {
    "name": "ipython",
    "version": 3
   },
   "file_extension": ".py",
   "mimetype": "text/x-python",
   "name": "python",
   "nbconvert_exporter": "python",
   "pygments_lexer": "ipython3",
   "version": "3.13.2"
  }
 },
 "nbformat": 4,
 "nbformat_minor": 5
}
