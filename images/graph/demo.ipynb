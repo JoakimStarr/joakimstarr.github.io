{
 "cells": [
  {
   "cell_type": "code",
   "execution_count": 3,
   "id": "51d04e71",
   "metadata": {},
   "outputs": [
    {
     "name": "stdout",
     "output_type": "stream",
     "text": [
      "{%img /images/graph/patagonia-bliss-5120x3414-17754.jpg  %}\n",
      "{%img /images/graph/wallhaven-w81q5p.webp  %}\n",
      "{%img /images/graph/wallhaven-e7kpl8.webp  %}\n",
      "{%img /images/graph/frog-house-5120x2880-19676.jpg  %}\n",
      "{%img /images/graph/demo.ipynb  %}\n",
      "{%img /images/graph/shinobu-kocho-5120x2880-19754.jpg  %}\n",
      "{%img /images/graph/night-starry-sky-forest-silhouette-astronomy-cosmos-5k-5005x3417-1679.jpg  %}\n",
      "{%img /images/graph/lake-mountains-rocks-sunrise-daylight-scenery-illustration-3840x2160-3773.jpg  %}\n",
      "{%img /images/graph/wlop-elves-pointed-ears-women-wallpaper-7961ad03190a131351540f634b9b40c2.jpg  %}\n",
      "{%img /images/graph/zenitsu-agatsuma-5120x2880-20236.jpg  %}\n",
      "{%img /images/graph/the-great-pyramid-3840x2743-17735.jpg  %}\n",
      "{%img /images/graph/landscape-purple-5120x2880-19680.jpg  %}\n",
      "{%img /images/graph/kawaii-candle-3840x2160-17728.png  %}\n",
      "{%img /images/graph/misty-swimming-pool-3840x2160-22786.jpg  %}\n",
      "{%img /images/graph/haunted-halloween-3840x2160-19266.jpg  %}\n"
     ]
    }
   ],
   "source": [
    "import os\n",
    "\n",
    "# 指定目录路径\n",
    "dir_path = \"./\"  # 可以是相对路径或绝对路径\n",
    "\n",
    "# 获取目录下所有文件和子目录名\n",
    "file_names = os.listdir(dir_path)\n",
    "\n",
    "# 打印所有文件名\n",
    "for name in file_names:\n",
    "    print(\"{%img /images/graph/\"+name+\"  %}\")\n"
   ]
  },
  {
   "cell_type": "code",
   "execution_count": null,
   "id": "50ba5849",
   "metadata": {},
   "outputs": [],
   "source": []
  }
 ],
 "metadata": {
  "kernelspec": {
   "display_name": "d2l",
   "language": "python",
   "name": "python3"
  },
  "language_info": {
   "codemirror_mode": {
    "name": "ipython",
    "version": 3
   },
   "file_extension": ".py",
   "mimetype": "text/x-python",
   "name": "python",
   "nbconvert_exporter": "python",
   "pygments_lexer": "ipython3",
   "version": "3.11.13"
  }
 },
 "nbformat": 4,
 "nbformat_minor": 5
}
